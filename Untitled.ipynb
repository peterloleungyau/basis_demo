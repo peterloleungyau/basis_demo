{
 "cells": [
  {
   "cell_type": "code",
   "execution_count": 1,
   "metadata": {},
   "outputs": [],
   "source": [
    "import os\n",
    "import json\n",
    "\n",
    "# Third Party\n",
    "import pandas as pd\n",
    "import numpy as np\n",
    "import matplotlib.pyplot as plt\n",
    "from sklearn.preprocessing import StandardScaler\n",
    "from sklearn.linear_model import LogisticRegression\n",
    "from sklearn.pipeline import Pipeline\n",
    "from sklearn.model_selection import StratifiedKFold, cross_validate, cross_val_score\n",
    "from sklearn.calibration import calibration_curve\n",
    "from sklearn import metrics\n",
    "# import utils.credit as utils\n",
    "\n",
    "# Bedrock\n",
    "#from bedrock_client.bedrock.analyzer.model_analyzer import ModelAnalyzer\n",
    "#from bedrock_client.bedrock.analyzer import ModelTypes\n",
    "#from bedrock_client.bedrock.api import BedrockApi\n",
    "#from bedrock_client.bedrock.metrics.service import ModelMonitoringService\n",
    "#import pickle\n",
    "#import logging\n",
    "\n",
    "# ---------------------------------\n",
    "# Constants\n",
    "# ---------------------------------\n",
    "\n",
    "OUTPUT_MODEL_PATH = \"/artefact/model.pkl\"\n",
    "FEATURE_COLS_PATH = \"/artefact/feature_cols.pkl\"\n",
    "\n",
    "CONFIG_FAI = {\n",
    "    'SEX': {\n",
    "        'privileged_attribute_values': [1],\n",
    "        'privileged_group_name': 'Male',  # privileged group name corresponding to values=[1]\n",
    "        'unprivileged_attribute_values': [2],\n",
    "        'unprivileged_group_name': 'Female',  # unprivileged group name corresponding to values=[0]\n",
    "    }\n",
    "}\n"
   ]
  },
  {
   "cell_type": "code",
   "execution_count": 2,
   "metadata": {},
   "outputs": [],
   "source": [
    "def load_dataset(filepath, target='TARGET', drop_columns=[]):\n",
    "    df = pd.read_csv(filepath)\n",
    "    # Extraneous columns\n",
    "    df.drop(drop_columns, axis=1, inplace=True)\n",
    "    original_len = len(df)\n",
    "    # Ensure nothing missing\n",
    "    df.dropna(how=\"any\", axis=0, inplace=True)\n",
    "    n_dropped = original_len - len(df)\n",
    "    n_dropped != 0 and print(f\"Warning - dropped {n_dropped} rows with NA data.\")\n",
    "    df = compress_df_mem(df)  # Need this to detect categorical variables for SMOTe\n",
    "    y = np.array(df[target])\n",
    "    df.drop(target, axis=1, inplace=True)\n",
    "    return df, y\n",
    "\n",
    "\n",
    "def compress_df_mem(df):\n",
    "    \"\"\"Compress memory usage of a dataframe\"\"\"\n",
    "    for col in df.columns:\n",
    "        col_type = df[col].dtypes\n",
    "        if col_type != object:\n",
    "            col_min = df[col].min()\n",
    "            col_max = df[col].max()\n",
    "            if str(col_type)[:3] == 'int':\n",
    "                if col_min > np.iinfo(np.int8).min and col_max < np.iinfo(np.int8).max:\n",
    "                    df[col] = df[col].astype(np.int8)\n",
    "                elif col_min > np.iinfo(np.int16).min and col_max < np.iinfo(np.int16).max:\n",
    "                    df[col] = df[col].astype(np.int16)\n",
    "                elif col_min > np.iinfo(np.int32).min and col_max < np.iinfo(np.int32).max:\n",
    "                    df[col] = df[col].astype(np.int32)\n",
    "                elif col_min > np.iinfo(np.int64).min and col_max < np.iinfo(np.int64).max:\n",
    "                    df[col] = df[col].astype(np.int64)\n",
    "            else:\n",
    "                if col_min > np.finfo(np.float16).min and col_max < np.finfo(np.float16).max:\n",
    "                    df[col] = df[col].astype(np.float16)\n",
    "                elif col_min > np.finfo(np.float32).min and col_max < np.finfo(np.float32).max:\n",
    "                    df[col] = df[col].astype(np.float32)\n",
    "                else:\n",
    "                    df[col] = df[col].astype(np.float64)\n",
    "    return df\n"
   ]
  },
  {
   "cell_type": "code",
   "execution_count": 3,
   "metadata": {},
   "outputs": [],
   "source": [
    "abalone = pd.read_csv(os.path.join('data', 'abalone.csv'))"
   ]
  },
  {
   "cell_type": "code",
   "execution_count": 24,
   "metadata": {},
   "outputs": [],
   "source": [
    "x_train, y_train = load_dataset(os.path.join('data', 'abalone_train.csv'), target = 'Type')\n",
    "x_train[\"large_ring\"] = (x_train[\"Rings\"] > 10).astype(int)"
   ]
  },
  {
   "cell_type": "code",
   "execution_count": 29,
   "metadata": {},
   "outputs": [
    {
     "data": {
      "text/plain": [
       "Index(['LongestShell', 'Diameter', 'Height', 'WholeWeight', 'ShuckedWeight',\n",
       "       'VisceraWeight', 'ShellWeight', 'Rings', 'large_ring'],\n",
       "      dtype='object')"
      ]
     },
     "execution_count": 29,
     "metadata": {},
     "output_type": "execute_result"
    }
   ],
   "source": [
    "x_train.columns"
   ]
  },
  {
   "cell_type": "code",
   "execution_count": 25,
   "metadata": {},
   "outputs": [
    {
     "data": {
      "text/html": [
       "<div>\n",
       "<style scoped>\n",
       "    .dataframe tbody tr th:only-of-type {\n",
       "        vertical-align: middle;\n",
       "    }\n",
       "\n",
       "    .dataframe tbody tr th {\n",
       "        vertical-align: top;\n",
       "    }\n",
       "\n",
       "    .dataframe thead th {\n",
       "        text-align: right;\n",
       "    }\n",
       "</style>\n",
       "<table border=\"1\" class=\"dataframe\">\n",
       "  <thead>\n",
       "    <tr style=\"text-align: right;\">\n",
       "      <th></th>\n",
       "      <th>LongestShell</th>\n",
       "      <th>Diameter</th>\n",
       "      <th>Height</th>\n",
       "      <th>WholeWeight</th>\n",
       "      <th>ShuckedWeight</th>\n",
       "      <th>VisceraWeight</th>\n",
       "      <th>ShellWeight</th>\n",
       "      <th>Rings</th>\n",
       "      <th>large_ring</th>\n",
       "    </tr>\n",
       "  </thead>\n",
       "  <tbody>\n",
       "    <tr>\n",
       "      <th>0</th>\n",
       "      <td>0.244995</td>\n",
       "      <td>0.194946</td>\n",
       "      <td>0.059998</td>\n",
       "      <td>0.094971</td>\n",
       "      <td>0.044495</td>\n",
       "      <td>0.024506</td>\n",
       "      <td>0.026001</td>\n",
       "      <td>4</td>\n",
       "      <td>0</td>\n",
       "    </tr>\n",
       "    <tr>\n",
       "      <th>1</th>\n",
       "      <td>0.620117</td>\n",
       "      <td>0.509766</td>\n",
       "      <td>0.180054</td>\n",
       "      <td>1.331055</td>\n",
       "      <td>0.594238</td>\n",
       "      <td>0.275879</td>\n",
       "      <td>0.387939</td>\n",
       "      <td>11</td>\n",
       "      <td>0</td>\n",
       "    </tr>\n",
       "    <tr>\n",
       "      <th>2</th>\n",
       "      <td>0.455078</td>\n",
       "      <td>0.344971</td>\n",
       "      <td>0.104980</td>\n",
       "      <td>0.400391</td>\n",
       "      <td>0.163940</td>\n",
       "      <td>0.075500</td>\n",
       "      <td>0.125977</td>\n",
       "      <td>8</td>\n",
       "      <td>0</td>\n",
       "    </tr>\n",
       "    <tr>\n",
       "      <th>3</th>\n",
       "      <td>0.479980</td>\n",
       "      <td>0.354980</td>\n",
       "      <td>0.114990</td>\n",
       "      <td>0.472412</td>\n",
       "      <td>0.206543</td>\n",
       "      <td>0.112000</td>\n",
       "      <td>0.131958</td>\n",
       "      <td>8</td>\n",
       "      <td>0</td>\n",
       "    </tr>\n",
       "    <tr>\n",
       "      <th>4</th>\n",
       "      <td>0.429932</td>\n",
       "      <td>0.324951</td>\n",
       "      <td>0.114990</td>\n",
       "      <td>0.386475</td>\n",
       "      <td>0.147461</td>\n",
       "      <td>0.106506</td>\n",
       "      <td>0.109985</td>\n",
       "      <td>11</td>\n",
       "      <td>0</td>\n",
       "    </tr>\n",
       "    <tr>\n",
       "      <th>...</th>\n",
       "      <td>...</td>\n",
       "      <td>...</td>\n",
       "      <td>...</td>\n",
       "      <td>...</td>\n",
       "      <td>...</td>\n",
       "      <td>...</td>\n",
       "      <td>...</td>\n",
       "      <td>...</td>\n",
       "      <td>...</td>\n",
       "    </tr>\n",
       "    <tr>\n",
       "      <th>2917</th>\n",
       "      <td>0.455078</td>\n",
       "      <td>0.350098</td>\n",
       "      <td>0.140015</td>\n",
       "      <td>0.572266</td>\n",
       "      <td>0.196533</td>\n",
       "      <td>0.132446</td>\n",
       "      <td>0.175049</td>\n",
       "      <td>10</td>\n",
       "      <td>0</td>\n",
       "    </tr>\n",
       "    <tr>\n",
       "      <th>2918</th>\n",
       "      <td>0.665039</td>\n",
       "      <td>0.535156</td>\n",
       "      <td>0.224976</td>\n",
       "      <td>2.183594</td>\n",
       "      <td>0.753418</td>\n",
       "      <td>0.391113</td>\n",
       "      <td>0.884766</td>\n",
       "      <td>27</td>\n",
       "      <td>1</td>\n",
       "    </tr>\n",
       "    <tr>\n",
       "      <th>2919</th>\n",
       "      <td>0.439941</td>\n",
       "      <td>0.350098</td>\n",
       "      <td>0.135010</td>\n",
       "      <td>0.435059</td>\n",
       "      <td>0.181519</td>\n",
       "      <td>0.083008</td>\n",
       "      <td>0.125000</td>\n",
       "      <td>12</td>\n",
       "      <td>0</td>\n",
       "    </tr>\n",
       "    <tr>\n",
       "      <th>2920</th>\n",
       "      <td>0.504883</td>\n",
       "      <td>0.405029</td>\n",
       "      <td>0.140015</td>\n",
       "      <td>0.875000</td>\n",
       "      <td>0.266602</td>\n",
       "      <td>0.173950</td>\n",
       "      <td>0.284912</td>\n",
       "      <td>12</td>\n",
       "      <td>0</td>\n",
       "    </tr>\n",
       "    <tr>\n",
       "      <th>2921</th>\n",
       "      <td>0.580078</td>\n",
       "      <td>0.449951</td>\n",
       "      <td>0.119995</td>\n",
       "      <td>0.868652</td>\n",
       "      <td>0.417969</td>\n",
       "      <td>0.147461</td>\n",
       "      <td>0.260498</td>\n",
       "      <td>8</td>\n",
       "      <td>0</td>\n",
       "    </tr>\n",
       "  </tbody>\n",
       "</table>\n",
       "<p>2922 rows × 9 columns</p>\n",
       "</div>"
      ],
      "text/plain": [
       "      LongestShell  Diameter    Height  WholeWeight  ShuckedWeight  \\\n",
       "0         0.244995  0.194946  0.059998     0.094971       0.044495   \n",
       "1         0.620117  0.509766  0.180054     1.331055       0.594238   \n",
       "2         0.455078  0.344971  0.104980     0.400391       0.163940   \n",
       "3         0.479980  0.354980  0.114990     0.472412       0.206543   \n",
       "4         0.429932  0.324951  0.114990     0.386475       0.147461   \n",
       "...            ...       ...       ...          ...            ...   \n",
       "2917      0.455078  0.350098  0.140015     0.572266       0.196533   \n",
       "2918      0.665039  0.535156  0.224976     2.183594       0.753418   \n",
       "2919      0.439941  0.350098  0.135010     0.435059       0.181519   \n",
       "2920      0.504883  0.405029  0.140015     0.875000       0.266602   \n",
       "2921      0.580078  0.449951  0.119995     0.868652       0.417969   \n",
       "\n",
       "      VisceraWeight  ShellWeight  Rings  large_ring  \n",
       "0          0.024506     0.026001      4           0  \n",
       "1          0.275879     0.387939     11           0  \n",
       "2          0.075500     0.125977      8           0  \n",
       "3          0.112000     0.131958      8           0  \n",
       "4          0.106506     0.109985     11           0  \n",
       "...             ...          ...    ...         ...  \n",
       "2917       0.132446     0.175049     10           0  \n",
       "2918       0.391113     0.884766     27           1  \n",
       "2919       0.083008     0.125000     12           0  \n",
       "2920       0.173950     0.284912     12           0  \n",
       "2921       0.147461     0.260498      8           0  \n",
       "\n",
       "[2922 rows x 9 columns]"
      ]
     },
     "execution_count": 25,
     "metadata": {},
     "output_type": "execute_result"
    }
   ],
   "source": [
    "x_train"
   ]
  },
  {
   "cell_type": "code",
   "execution_count": 6,
   "metadata": {},
   "outputs": [
    {
     "data": {
      "text/plain": [
       "array(['I', 'F', 'I', ..., 'I', 'M', 'M'], dtype=object)"
      ]
     },
     "execution_count": 6,
     "metadata": {},
     "output_type": "execute_result"
    }
   ],
   "source": [
    "y_train"
   ]
  },
  {
   "cell_type": "code",
   "execution_count": 26,
   "metadata": {},
   "outputs": [],
   "source": [
    "x_test, y_test = load_dataset(os.path.join('data', 'abalone_test.csv'), target = 'Type')\n",
    "x_test[\"large_ring\"] = (x_test[\"Rings\"] > 10).astype(int)"
   ]
  },
  {
   "cell_type": "code",
   "execution_count": 27,
   "metadata": {},
   "outputs": [
    {
     "data": {
      "text/html": [
       "<div>\n",
       "<style scoped>\n",
       "    .dataframe tbody tr th:only-of-type {\n",
       "        vertical-align: middle;\n",
       "    }\n",
       "\n",
       "    .dataframe tbody tr th {\n",
       "        vertical-align: top;\n",
       "    }\n",
       "\n",
       "    .dataframe thead th {\n",
       "        text-align: right;\n",
       "    }\n",
       "</style>\n",
       "<table border=\"1\" class=\"dataframe\">\n",
       "  <thead>\n",
       "    <tr style=\"text-align: right;\">\n",
       "      <th></th>\n",
       "      <th>LongestShell</th>\n",
       "      <th>Diameter</th>\n",
       "      <th>Height</th>\n",
       "      <th>WholeWeight</th>\n",
       "      <th>ShuckedWeight</th>\n",
       "      <th>VisceraWeight</th>\n",
       "      <th>ShellWeight</th>\n",
       "      <th>Rings</th>\n",
       "      <th>large_ring</th>\n",
       "    </tr>\n",
       "  </thead>\n",
       "  <tbody>\n",
       "    <tr>\n",
       "      <th>0</th>\n",
       "      <td>0.649902</td>\n",
       "      <td>0.535156</td>\n",
       "      <td>0.175049</td>\n",
       "      <td>1.289062</td>\n",
       "      <td>0.609375</td>\n",
       "      <td>0.276611</td>\n",
       "      <td>0.343994</td>\n",
       "      <td>10</td>\n",
       "      <td>0</td>\n",
       "    </tr>\n",
       "    <tr>\n",
       "      <th>1</th>\n",
       "      <td>0.469971</td>\n",
       "      <td>0.375000</td>\n",
       "      <td>0.125000</td>\n",
       "      <td>0.561523</td>\n",
       "      <td>0.251953</td>\n",
       "      <td>0.136963</td>\n",
       "      <td>0.180054</td>\n",
       "      <td>10</td>\n",
       "      <td>0</td>\n",
       "    </tr>\n",
       "    <tr>\n",
       "      <th>2</th>\n",
       "      <td>0.334961</td>\n",
       "      <td>0.250000</td>\n",
       "      <td>0.075012</td>\n",
       "      <td>0.186035</td>\n",
       "      <td>0.094482</td>\n",
       "      <td>0.037994</td>\n",
       "      <td>0.044495</td>\n",
       "      <td>7</td>\n",
       "      <td>0</td>\n",
       "    </tr>\n",
       "    <tr>\n",
       "      <th>3</th>\n",
       "      <td>0.274902</td>\n",
       "      <td>0.199951</td>\n",
       "      <td>0.054993</td>\n",
       "      <td>0.092529</td>\n",
       "      <td>0.037994</td>\n",
       "      <td>0.020996</td>\n",
       "      <td>0.026001</td>\n",
       "      <td>4</td>\n",
       "      <td>0</td>\n",
       "    </tr>\n",
       "    <tr>\n",
       "      <th>4</th>\n",
       "      <td>0.555176</td>\n",
       "      <td>0.439941</td>\n",
       "      <td>0.155029</td>\n",
       "      <td>1.015625</td>\n",
       "      <td>0.493408</td>\n",
       "      <td>0.185547</td>\n",
       "      <td>0.262939</td>\n",
       "      <td>10</td>\n",
       "      <td>0</td>\n",
       "    </tr>\n",
       "    <tr>\n",
       "      <th>...</th>\n",
       "      <td>...</td>\n",
       "      <td>...</td>\n",
       "      <td>...</td>\n",
       "      <td>...</td>\n",
       "      <td>...</td>\n",
       "      <td>...</td>\n",
       "      <td>...</td>\n",
       "      <td>...</td>\n",
       "      <td>...</td>\n",
       "    </tr>\n",
       "    <tr>\n",
       "      <th>1250</th>\n",
       "      <td>0.485107</td>\n",
       "      <td>0.370117</td>\n",
       "      <td>0.140015</td>\n",
       "      <td>0.572266</td>\n",
       "      <td>0.203979</td>\n",
       "      <td>0.141479</td>\n",
       "      <td>0.175049</td>\n",
       "      <td>10</td>\n",
       "      <td>0</td>\n",
       "    </tr>\n",
       "    <tr>\n",
       "      <th>1251</th>\n",
       "      <td>0.445068</td>\n",
       "      <td>0.360107</td>\n",
       "      <td>0.109985</td>\n",
       "      <td>0.423584</td>\n",
       "      <td>0.182007</td>\n",
       "      <td>0.076477</td>\n",
       "      <td>0.140015</td>\n",
       "      <td>9</td>\n",
       "      <td>0</td>\n",
       "    </tr>\n",
       "    <tr>\n",
       "      <th>1252</th>\n",
       "      <td>0.475098</td>\n",
       "      <td>0.354980</td>\n",
       "      <td>0.135010</td>\n",
       "      <td>0.477539</td>\n",
       "      <td>0.214478</td>\n",
       "      <td>0.090027</td>\n",
       "      <td>0.143555</td>\n",
       "      <td>8</td>\n",
       "      <td>0</td>\n",
       "    </tr>\n",
       "    <tr>\n",
       "      <th>1253</th>\n",
       "      <td>0.580078</td>\n",
       "      <td>0.459961</td>\n",
       "      <td>0.130005</td>\n",
       "      <td>0.920898</td>\n",
       "      <td>0.356934</td>\n",
       "      <td>0.181030</td>\n",
       "      <td>0.290039</td>\n",
       "      <td>13</td>\n",
       "      <td>1</td>\n",
       "    </tr>\n",
       "    <tr>\n",
       "      <th>1254</th>\n",
       "      <td>0.625000</td>\n",
       "      <td>0.485107</td>\n",
       "      <td>0.160034</td>\n",
       "      <td>1.253906</td>\n",
       "      <td>0.590820</td>\n",
       "      <td>0.259033</td>\n",
       "      <td>0.348389</td>\n",
       "      <td>9</td>\n",
       "      <td>0</td>\n",
       "    </tr>\n",
       "  </tbody>\n",
       "</table>\n",
       "<p>1255 rows × 9 columns</p>\n",
       "</div>"
      ],
      "text/plain": [
       "      LongestShell  Diameter    Height  WholeWeight  ShuckedWeight  \\\n",
       "0         0.649902  0.535156  0.175049     1.289062       0.609375   \n",
       "1         0.469971  0.375000  0.125000     0.561523       0.251953   \n",
       "2         0.334961  0.250000  0.075012     0.186035       0.094482   \n",
       "3         0.274902  0.199951  0.054993     0.092529       0.037994   \n",
       "4         0.555176  0.439941  0.155029     1.015625       0.493408   \n",
       "...            ...       ...       ...          ...            ...   \n",
       "1250      0.485107  0.370117  0.140015     0.572266       0.203979   \n",
       "1251      0.445068  0.360107  0.109985     0.423584       0.182007   \n",
       "1252      0.475098  0.354980  0.135010     0.477539       0.214478   \n",
       "1253      0.580078  0.459961  0.130005     0.920898       0.356934   \n",
       "1254      0.625000  0.485107  0.160034     1.253906       0.590820   \n",
       "\n",
       "      VisceraWeight  ShellWeight  Rings  large_ring  \n",
       "0          0.276611     0.343994     10           0  \n",
       "1          0.136963     0.180054     10           0  \n",
       "2          0.037994     0.044495      7           0  \n",
       "3          0.020996     0.026001      4           0  \n",
       "4          0.185547     0.262939     10           0  \n",
       "...             ...          ...    ...         ...  \n",
       "1250       0.141479     0.175049     10           0  \n",
       "1251       0.076477     0.140015      9           0  \n",
       "1252       0.090027     0.143555      8           0  \n",
       "1253       0.181030     0.290039     13           1  \n",
       "1254       0.259033     0.348389      9           0  \n",
       "\n",
       "[1255 rows x 9 columns]"
      ]
     },
     "execution_count": 27,
     "metadata": {},
     "output_type": "execute_result"
    }
   ],
   "source": [
    "x_test"
   ]
  },
  {
   "cell_type": "code",
   "execution_count": 9,
   "metadata": {},
   "outputs": [
    {
     "data": {
      "text/plain": [
       "array(['F', 'F', 'I', ..., 'I', 'M', 'F'], dtype=object)"
      ]
     },
     "execution_count": 9,
     "metadata": {},
     "output_type": "execute_result"
    }
   ],
   "source": [
    "y_test"
   ]
  },
  {
   "cell_type": "code",
   "execution_count": 10,
   "metadata": {},
   "outputs": [],
   "source": [
    "from sklearn.preprocessing import LabelEncoder\n",
    "var_mod = ['F', 'M', 'I']\n",
    "le = LabelEncoder()"
   ]
  },
  {
   "cell_type": "code",
   "execution_count": 11,
   "metadata": {},
   "outputs": [],
   "source": [
    "y_train = le.fit_transform(y_train)\n",
    "y_test = le.fit_transform(y_test)"
   ]
  },
  {
   "cell_type": "code",
   "execution_count": 12,
   "metadata": {},
   "outputs": [
    {
     "data": {
      "text/plain": [
       "array([1, 0, 1, ..., 1, 2, 2])"
      ]
     },
     "execution_count": 12,
     "metadata": {},
     "output_type": "execute_result"
    }
   ],
   "source": [
    "y_train"
   ]
  },
  {
   "cell_type": "code",
   "execution_count": 13,
   "metadata": {},
   "outputs": [
    {
     "data": {
      "text/plain": [
       "array([0, 0, 1, ..., 1, 2, 0])"
      ]
     },
     "execution_count": 13,
     "metadata": {},
     "output_type": "execute_result"
    }
   ],
   "source": [
    "y_test"
   ]
  },
  {
   "cell_type": "code",
   "execution_count": 14,
   "metadata": {},
   "outputs": [],
   "source": [
    "def train_log_reg_model(X, y, seed=0, C=1, verbose=False, upsample=True):\n",
    "    if upsample:\n",
    "        verbose and print('upsampling...')\n",
    "        categorical_features = [i for i, col in enumerate(X.columns) if X[col].dtype == 'int8']\n",
    "        smote = SMOTENC(random_state=seed, categorical_features=categorical_features)\n",
    "        X, y = smote.fit_resample(X, y)\n",
    "\n",
    "    verbose and print('scaling...')\n",
    "    scaling = StandardScaler()\n",
    "    X = scaling.fit_transform(X)\n",
    "\n",
    "    verbose and print('fitting...')\n",
    "    verbose and print('C:', C)\n",
    "    model = LogisticRegression(random_state=seed, C=C, max_iter=4000)\n",
    "    model.fit(X, y)\n",
    "\n",
    "    verbose and print('chaining pipeline...')\n",
    "    pipe = Pipeline([('scaling', scaling), ('model', model)])\n",
    "    verbose and print('done.')\n",
    "    return pipe"
   ]
  },
  {
   "cell_type": "code",
   "execution_count": 15,
   "metadata": {},
   "outputs": [
    {
     "name": "stdout",
     "output_type": "stream",
     "text": [
      "scaling...\n",
      "fitting...\n",
      "C: 0.1\n",
      "chaining pipeline...\n",
      "done.\n"
     ]
    }
   ],
   "source": [
    "best_regularizer = 1e-1\n",
    "model = train_log_reg_model(x_train, y_train, seed=0, C=best_regularizer, upsample=False, verbose=True)"
   ]
  },
  {
   "cell_type": "code",
   "execution_count": 16,
   "metadata": {},
   "outputs": [],
   "source": [
    "test_prod = model.predict_proba(x_test)"
   ]
  },
  {
   "cell_type": "code",
   "execution_count": 17,
   "metadata": {},
   "outputs": [
    {
     "data": {
      "text/plain": [
       "array([[0.4843277 , 0.04157547, 0.47409682],\n",
       "       [0.27558337, 0.34512809, 0.37928854],\n",
       "       [0.06218639, 0.78230776, 0.15550584],\n",
       "       ...,\n",
       "       [0.15712002, 0.61999076, 0.22288923],\n",
       "       [0.4143101 , 0.15548208, 0.43020782],\n",
       "       [0.41504908, 0.06078552, 0.52416541]])"
      ]
     },
     "execution_count": 17,
     "metadata": {},
     "output_type": "execute_result"
    }
   ],
   "source": [
    "test_prod"
   ]
  },
  {
   "cell_type": "code",
   "execution_count": 18,
   "metadata": {},
   "outputs": [],
   "source": [
    "test_pred = model.predict(x_test)"
   ]
  },
  {
   "cell_type": "code",
   "execution_count": 19,
   "metadata": {},
   "outputs": [
    {
     "data": {
      "text/plain": [
       "array([0, 2, 1, ..., 1, 2, 2])"
      ]
     },
     "execution_count": 19,
     "metadata": {},
     "output_type": "execute_result"
    }
   ],
   "source": [
    "test_pred"
   ]
  },
  {
   "cell_type": "code",
   "execution_count": 20,
   "metadata": {},
   "outputs": [
    {
     "data": {
      "text/plain": [
       "0.5537848605577689"
      ]
     },
     "execution_count": 20,
     "metadata": {},
     "output_type": "execute_result"
    }
   ],
   "source": [
    "metrics.accuracy_score(y_test, test_pred)"
   ]
  },
  {
   "cell_type": "code",
   "execution_count": 21,
   "metadata": {},
   "outputs": [
    {
     "data": {
      "text/plain": [
       "0.7621433922069859"
      ]
     },
     "execution_count": 21,
     "metadata": {},
     "output_type": "execute_result"
    }
   ],
   "source": [
    "metrics.roc_auc_score(y_test, model.predict_proba(x_test), multi_class='ovr')"
   ]
  },
  {
   "cell_type": "code",
   "execution_count": null,
   "metadata": {},
   "outputs": [],
   "source": []
  }
 ],
 "metadata": {
  "kernelspec": {
   "display_name": "Python 3",
   "language": "python",
   "name": "python3"
  },
  "language_info": {
   "codemirror_mode": {
    "name": "ipython",
    "version": 3
   },
   "file_extension": ".py",
   "mimetype": "text/x-python",
   "name": "python",
   "nbconvert_exporter": "python",
   "pygments_lexer": "ipython3",
   "version": "3.7.9"
  }
 },
 "nbformat": 4,
 "nbformat_minor": 4
}
